{
 "cells": [
  {
   "cell_type": "code",
   "execution_count": 1,
   "metadata": {},
   "outputs": [],
   "source": [
    "import math\n",
    "import itertools\n",
    "graph_raw=[]\n",
    "with open(r'Data\\tsp.txt','r') as f:\n",
    "    graph_raw=f.readlines()\n",
    "location = [(float(x.split()[0]),float(x.split()[1])) for x in graph_raw[1:] ]\n",
    "edge_list=[]\n",
    "for i in range(len(location)):\n",
    "    edge_list.append([])\n",
    "    edge_list[i]=[math.sqrt((location[i][0]-x[0])*(location[i][0]-x[0])+(location[i][1]-x[1])*(location[i][1]-x[1])) for x in location]\n",
    "vertex_set=set(range(len(location)))\n",
    "vertex_set_ex_source=set(range(1,len(location)))"
   ]
  },
  {
   "cell_type": "code",
   "execution_count": 2,
   "metadata": {},
   "outputs": [],
   "source": [
    "#tour_dict stores the tour cost, which covers vertex set S (starting from vertex 0, excluding starting vertex), with a total of m vertex\n",
    "#initialize tour_array, for S with size 1\n",
    "#tour_dict with a key of size of S, value of tour set info, tour set info with key of content of S, value tour last hop info, tour last hop info with key of tour last hop, value as tour cost\n",
    "tour_dict={}\n",
    "for i in range(1, len(location)):\n",
    "    if i==1:\n",
    "        tour_dict[1]={frozenset([i]):{i:edge_list[0][i]}}\n",
    "    else:\n",
    "        tour_dict[1][frozenset([i])]={i:edge_list[0][i]}\n",
    "#Calculate vertex set S of size 2 based on initialized tour_dict of vertex set of size 1\n",
    "#Calculate vertex set S of size 3 based on initialized tour_dict of vertex set of size 2\n",
    "#Iterate through, to calculate minimum tour cost covering the full vertex set for different ending hop\n",
    "for m in range(2,len(location)):\n",
    "    for S in itertools.combinations(vertex_set_ex_source, m-1):\n",
    "        for j in vertex_set_ex_source.difference(set(S)):\n",
    "            temp_min=''\n",
    "            for k in S:\n",
    "                if temp_min=='':\n",
    "                    temp_min=tour_dict[m-1][frozenset(S)][k]+edge_list[k][j]\n",
    "                else:\n",
    "                    temp_min=min(temp_min, tour_dict[m-1][frozenset(S)][k]+edge_list[k][j])\n",
    "            current_set=frozenset(set(S).union(set({j})))\n",
    "            if m in tour_dict:\n",
    "                if current_set in tour_dict[m]:\n",
    "                    tour_dict[m][current_set][j]=temp_min\n",
    "                else:\n",
    "                    tour_dict[m][current_set]={j:temp_min}\n",
    "            else:\n",
    "                tour_dict[m]={current_set:{j:temp_min}}\n",
    "#calculate the minimum tour cost, from the full vertex set with different ending hop back to starting point 0\n",
    "temp_min=''\n",
    "for i in range(1, len(location)):\n",
    "    if temp_min=='':\n",
    "        temp_min=tour_dict[len(location)-1][frozenset(vertex_set_ex_source)][i]+edge_list[0][i]\n",
    "    else:\n",
    "        temp_min=min(temp_min,tour_dict[len(location)-1][frozenset(vertex_set_ex_source)][i]+edge_list[0][i])\n"
   ]
  },
  {
   "cell_type": "code",
   "execution_count": 3,
   "metadata": {},
   "outputs": [
    {
     "data": {
      "text/plain": [
       "99.07408142954496"
      ]
     },
     "execution_count": 3,
     "metadata": {},
     "output_type": "execute_result"
    }
   ],
   "source": [
    "temp_min"
   ]
  },
  {
   "cell_type": "code",
   "execution_count": null,
   "metadata": {},
   "outputs": [],
   "source": [
    "#Tested"
   ]
  }
 ],
 "metadata": {
  "kernelspec": {
   "display_name": "Python 3",
   "language": "python",
   "name": "python3"
  },
  "language_info": {
   "codemirror_mode": {
    "name": "ipython",
    "version": 3
   },
   "file_extension": ".py",
   "mimetype": "text/x-python",
   "name": "python",
   "nbconvert_exporter": "python",
   "pygments_lexer": "ipython3",
   "version": "3.6.4"
  }
 },
 "nbformat": 4,
 "nbformat_minor": 2
}
